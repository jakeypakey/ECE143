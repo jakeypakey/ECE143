{
  "nbformat": 4,
  "nbformat_minor": 0,
  "metadata": {
    "kernelspec": {
      "display_name": "Python 3",
      "language": "python",
      "name": "python3"
    },
    "language_info": {
      "codemirror_mode": {
        "name": "ipython",
        "version": 3
      },
      "file_extension": ".py",
      "mimetype": "text/x-python",
      "name": "python",
      "nbconvert_exporter": "python",
      "pygments_lexer": "ipython3",
      "version": "3.7.9"
    },
    "colab": {
      "name": "Group8_Assignment3.ipynb",
      "provenance": [],
      "collapsed_sections": []
    }
  },
  "cells": [
    {
      "cell_type": "markdown",
      "metadata": {
        "id": "_QdjuSnUyo5z"
      },
      "source": [
        "# Fibonacci"
      ]
    },
    {
      "cell_type": "markdown",
      "metadata": {
        "id": "vq1xYZ1tdoln"
      },
      "source": [
        "The Fibonacci numbers are defined by the following recursion: F[n] = F[n-1]+F[n-2] with initial values F[1]=F[0]=1. Write a generator to compute the first n Fibonacci numbers. For example, for n=10, the output for list(fibonacci(n)) should be [1,1,2,3,5,8,13,21,34,55].\n",
        "\n"
      ]
    },
    {
      "cell_type": "markdown",
      "metadata": {
        "id": "IYVEcYOFyo6A"
      },
      "source": [
        "**Validation Tests** <br>\n",
        "Check for corner cases and constraints in the inputs enlist all cases used for testing"
      ]
    },
    {
      "cell_type": "code",
      "metadata": {
        "id": "tNCT07T8yo6D"
      },
      "source": [
        "assert isinstance(n,int), \"n must be integer valued\"\n",
        "assert n > 0, \"first n Fibonacci numbers only makes sense if n is positive\""
      ],
      "execution_count": null,
      "outputs": []
    },
    {
      "cell_type": "markdown",
      "metadata": {
        "id": "WhxTuSxAzZ49"
      },
      "source": [
        "**Functional Tests** <br>\n",
        "Check function output matches expected result enlist all cases used for testing"
      ]
    },
    {
      "cell_type": "code",
      "metadata": {
        "id": "AHKzLJHByo6I"
      },
      "source": [
        "n = 1 # first base case\n",
        "assert [1] == list(fibonacci(n))"
      ],
      "execution_count": null,
      "outputs": []
    },
    {
      "cell_type": "code",
      "metadata": {
        "id": "FXP0mzkcyo6J"
      },
      "source": [
        "n = 2 # second base case\n",
        "assert [1,1] == list(fibonacci(n))"
      ],
      "execution_count": null,
      "outputs": []
    },
    {
      "cell_type": "code",
      "metadata": {
        "id": "8Ezmnxxvyo6L"
      },
      "source": [
        "n = 15 # arbitrary number large enough that it's hard to fake\n",
        "assert [1, 1, 2, 3, 5, 8, 13, 21, 34, 55, 89, 144, 233, 377, 610] == list(fibonacci(n))"
      ],
      "execution_count": null,
      "outputs": []
    },
    {
      "cell_type": "markdown",
      "metadata": {
        "id": "Owrfbzc7yo6M"
      },
      "source": [
        "# Sliding Window"
      ]
    },
    {
      "cell_type": "markdown",
      "metadata": {
        "id": "2tGWVtpQIcV-"
      },
      "source": [
        "Implement a sliding window for an arbitrary input list. The function should take the window width and the window increment as inputs and should produce a sequence of overlapping lists from the input list. For example, given x=list(range(15)), the following is the output given a window width of 5 and window increment of 2.\r\n",
        "\r\n",
        "\r\n",
        "   [[0, 1, 2, 3, 4],\r\n",
        "    [2, 3, 4, 5, 6],\r\n",
        "    [4, 5, 6, 7, 8],\r\n",
        "    [6, 7, 8, 9, 10],\r\n",
        "    [8, 9, 10, 11, 12],\r\n",
        "    [10, 11, 12, 13, 14]]\r\n",
        " \r\n",
        "In the event that the input parameters do not yield a complete set of even sublists, just truncate the ragged tail. For example,\r\n",
        "\r\n",
        " slide_window(list(range(18)),5,2) \r\n",
        "\r\n",
        "   [[0, 1, 2, 3, 4],\r\n",
        "    [2, 3, 4, 5, 6],\r\n",
        "    [4, 5, 6, 7, 8],\r\n",
        "    [6, 7, 8, 9, 10],\r\n",
        "    [8, 9, 10, 11, 12],\r\n",
        "    [10, 11, 12, 13, 14],\r\n",
        "    [12, 13, 14, 15, 16]]\r\n",
        " \r\n",
        "Here is the function signature: slide_window(x,width,increment) where increment>0, width>0, and x is a list."
      ]
    },
    {
      "cell_type": "markdown",
      "metadata": {
        "id": "l60ONcQszYlD"
      },
      "source": [
        "**Validation Tests** <br>\n",
        "Check for corner cases and constraints in the inputs enlist all cases used for testing"
      ]
    },
    {
      "cell_type": "code",
      "metadata": {
        "id": "SP5b6fPYyo6N"
      },
      "source": [
        "assert isinstance(x,list)\n",
        "assert isinstance(width,int) and isinstance(increment,int)\n",
        "assert width > 0\n",
        "assert increment > 0"
      ],
      "execution_count": null,
      "outputs": []
    },
    {
      "cell_type": "markdown",
      "metadata": {
        "id": "J-Al0XtDzkOt"
      },
      "source": [
        "**Functional Tests** <br>\n",
        "Check function output matches expected result enlist all cases used for testing"
      ]
    },
    {
      "cell_type": "code",
      "metadata": {
        "id": "BG-oT-0ezlVT"
      },
      "source": [
        "x=list(range(12)) #event where input parament yields complete sublist.\r\n",
        "width=4\r\n",
        "increment=2\r\n",
        "assert [[0, 1, 2, 3], [2, 3, 4, 5], [4, 5, 6, 7], [6, 7, 8, 9], [8, 9, 10, 11]] == slide_window(x,width,increment)"
      ],
      "execution_count": null,
      "outputs": []
    },
    {
      "cell_type": "code",
      "metadata": {
        "id": "AWFh_G1YFI9y"
      },
      "source": [
        "x=list(range(11)) #event where input parameter do not yield complete sublist and the ragged tail is truncated.\r\n",
        "width=4\r\n",
        "increment=2\r\n",
        "assert [[0, 1, 2, 3], [2, 3, 4, 5], [4, 5, 6, 7], [6, 7, 8, 9]] == slide_window(x,width,increment)"
      ],
      "execution_count": null,
      "outputs": []
    },
    {
      "cell_type": "markdown",
      "metadata": {
        "id": "Nv_lIFpWztXF"
      },
      "source": [
        "# Coroutines\n"
      ]
    },
    {
      "cell_type": "markdown",
      "metadata": {
        "id": "bD_Dv1bgl6Nf"
      },
      "source": [
        "The code below defines a generator that returns the duration of its lifetime when called.\r\n",
        "\r\n",
        " from time import sleep\r\n",
        "\r\n",
        " import random\r\n",
        "\r\n",
        " from datetime import datetime\r\n",
        "\r\n",
        " import itertools as it\r\n",
        " \r\n",
        " def producer():\r\n",
        "\r\n",
        "     'produce timestamps'\r\n",
        "     starttime = datetime.now()\r\n",
        "     while True:\r\n",
        "         sleep(random.uniform(0,0.2))\r\n",
        "         yield datetime.now()-starttime\r\n",
        " \r\n",
        "For example,\r\n",
        "\r\n",
        ">>> p = producer()\r\n",
        "\r\n",
        ">>> next(p)\r\n",
        "\r\n",
        "datetime.timedelta(0, 0, 106641)\r\n",
        " \r\n",
        "Note that the output of producer has a seconds attribute. Write a generator that tracks the output of this producer and ultimately returns the number of odd numbered seconds that have been iterated over. The usage pattern is the following,\r\n",
        "\r\n",
        ">>> t = tracker(p,limit=2)\r\n",
        "\r\n",
        ">>> next(t)\r\n",
        "\r\n",
        "1\r\n",
        ">>> list( tracker(p,limit=2))\r\n",
        "\r\n",
        "[1,2] \r\n",
        "\r\n",
        "The limit keyword argument is the number of odd-numbered seconds to track until completion.\r\n",
        "\r\n",
        ">>> list( tracker(p,limit=5))\r\n",
        "\r\n",
        "[0, 0, 0, 0, 0, 0, 1, 2, 3, 4, 5] \r\n",
        "\r\n",
        "The last line is interesting because is shows that the producer's seconds value output was an even number for the first six iterations. Your tracker generator should also receive input that changes the existing limit,\r\n",
        "\r\n",
        ">>> t = tracker(p,limit=3)\r\n",
        "\r\n",
        ">>> next(t)\r\n",
        "\r\n",
        "0\r\n",
        ">>> next(t)\r\n",
        "\r\n",
        "0\r\n",
        "\r\n",
        ">>> t.send(5)\r\n",
        "\r\n",
        "1\r\n",
        ">>> list(t)\r\n",
        "\r\n",
        "[1, 1, 1, 1, 2, 3, 4, 5]"
      ]
    },
    {
      "cell_type": "markdown",
      "metadata": {
        "id": "ypcwBns6ztXJ"
      },
      "source": [
        "**Validation Tests** <br>\n",
        "Check for corner cases and constraints in the inputs enlist all cases used for testing"
      ]
    },
    {
      "cell_type": "code",
      "metadata": {
        "id": "8bWQo18ZztXM"
      },
      "source": [
        "assert limit > 0\n",
        "assert p.__name__ == 'producer'\n",
        "assert isinstance(limit,int)"
      ],
      "execution_count": null,
      "outputs": []
    },
    {
      "cell_type": "markdown",
      "metadata": {
        "id": "FS2FKYLoztXO"
      },
      "source": [
        "**Functional Tests** <br>\n",
        "Check function output matches expected result enlist all cases used for testing"
      ]
    },
    {
      "cell_type": "code",
      "metadata": {
        "id": "GyU_3dISztXO"
      },
      "source": [
        "res = list(tracker(producer(),5))\n",
        "assert res == sorted(res)\n",
        "assert max(res)==5\n",
        "\n",
        "tmp = tracker(producer(),1)\n",
        "tmp.send(None)\n",
        "tmp.send(5)\n",
        "assert max(list(tmp))==5\n",
        "\n",
        "p=-1\n",
        "for item in tracker(producer(),5): \n",
        "  assert item >= p \n",
        "  p = item \n"
      ],
      "execution_count": null,
      "outputs": []
    },
    {
      "cell_type": "markdown",
      "metadata": {
        "id": "9525f5WFztqI"
      },
      "source": [
        "# Calendar days"
      ]
    },
    {
      "cell_type": "markdown",
      "metadata": {
        "id": "EmtGl6zg58KN"
      },
      "source": [
        "Write a function that returns the number of calendar days in a given year and month. Hint: see the calendar module in the standard library. number_of_days(year,month)\n",
        "    Write a function to find the number of leap-years between (including both endpoints) two given years. number_of_leap_years(year1,year2)\n",
        "    Write a function to find the string name (e.g., Monday, Tuesday) of the day of the week on a given month,day, and year. get_day_of_week(year,month,day)\n"
      ]
    },
    {
      "cell_type": "markdown",
      "metadata": {
        "id": "ygSxbEKqztqJ"
      },
      "source": [
        "**Validation Tests** <br>\n",
        "\n",
        "1.   List item\n",
        "2.   List item\n",
        "\n",
        "\n",
        "Check for corner cases and constraints in the inputs enlist all cases used for testing"
      ]
    },
    {
      "cell_type": "code",
      "metadata": {
        "id": "-vp7XSGyztqL"
      },
      "source": [
        "#number of days\n",
        "assert year >= 0\n",
        "assert 1 <= month <= 12\n",
        "assert isinstance(year, int)\n",
        "assert isinstance(month,int)\n",
        "\n",
        "#number of leap years\n",
        "assert isinstance(year1, int)\n",
        "assert isinstance(year2,int)\n",
        "assert year2 >= year1 >= 0 \n",
        "\n",
        "#get day of the week\n",
        "assert isinstance(year, int)\n",
        "assert isinstance(month, int)\n",
        "assert isinstance(day, int) \n",
        "assert 1 <= month <= 12\n",
        "assert 1 <= day <= number_of_days(year,month)\n",
        "assert year >= 0"
      ],
      "execution_count": null,
      "outputs": []
    },
    {
      "cell_type": "markdown",
      "metadata": {
        "id": "9lxNZYbYztqL"
      },
      "source": [
        "**Functional Tests** <br>\n",
        "Check function output matches expected result enlist all cases used for testing"
      ]
    },
    {
      "cell_type": "code",
      "metadata": {
        "id": "JPvSSbDCztqM"
      },
      "source": [
        "year = 2021   #test for number_of_days(year,month)\r\n",
        "month = 1\r\n",
        "assert number_of_days(year,month) == 31\r\n",
        "\r\n",
        "year1 = 2000  #test for number_of_leap_years(year1,year2)\r\n",
        "year2 = 2016\r\n",
        "assert number_of_leap_years(year1,year2) == 5  \r\n",
        "\r\n",
        "year1 = 1900  #test for number_of_leap_years(year1,year2) with > century gap\r\n",
        "year2 = 2016\r\n",
        "assert number_of_leap_years(year1,year2) == 29\r\n",
        "\r\n",
        "year = 2021  #test for get_day_of_week(year,month,day)\r\n",
        "month = 1\r\n",
        "day = 25\r\n",
        "assert get_day_of_week(year,month,day) == 'Monday'\r\n"
      ],
      "execution_count": null,
      "outputs": []
    }
  ]
}